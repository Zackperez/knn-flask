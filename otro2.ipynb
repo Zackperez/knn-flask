{
  "cells": [
    {
      "cell_type": "code",
      "execution_count": 2,
      "metadata": {},
      "outputs": [],
      "source": [
        "import pandas as pd\n",
        "from sklearn.model_selection import train_test_split\n",
        "from sklearn.preprocessing import LabelEncoder, MinMaxScaler\n",
        "from sklearn.neighbors import KNeighborsClassifier\n",
        "import matplotlib.pyplot as plt\n",
        "le = LabelEncoder()\n",
        "df = pd.read_csv('breast-cancer.csv')"
      ]
    },
    {
      "cell_type": "code",
      "execution_count": null,
      "metadata": {},
      "outputs": [],
      "source": []
    },
    {
      "cell_type": "code",
      "execution_count": 3,
      "metadata": {},
      "outputs": [],
      "source": [
        "df.rename(columns={'class': 'recurrence_events'}, inplace = True)\n",
        "df.rename(columns={'tumor-size': 'tumor_size'}, inplace = True)\n",
        "df.rename(columns={'inv-nodes': 'inv_nodes'}, inplace = True)\n",
        "df.rename(columns={'node-caps': 'node_caps'}, inplace = True)\n",
        "df.rename(columns={'deg-malig': 'deg_malig'}, inplace = True)\n",
        "df.rename(columns={'breast-quead': 'breast_quead'}, inplace = True)\n"
      ]
    },
    {
      "cell_type": "code",
      "execution_count": 4,
      "metadata": {},
      "outputs": [
        {
          "name": "stdout",
          "output_type": "stream",
          "text": [
            "<class 'pandas.core.frame.DataFrame'>\n",
            "RangeIndex: 286 entries, 0 to 285\n",
            "Data columns (total 10 columns):\n",
            " #   Column             Non-Null Count  Dtype \n",
            "---  ------             --------------  ----- \n",
            " 0   recurrence_events  286 non-null    object\n",
            " 1   age                286 non-null    object\n",
            " 2   menopause          286 non-null    object\n",
            " 3   tumor_size         286 non-null    object\n",
            " 4   inv_nodes          286 non-null    object\n",
            " 5   node_caps          286 non-null    object\n",
            " 6   deg_malig          286 non-null    int64 \n",
            " 7   breast             286 non-null    object\n",
            " 8   breast_quead       286 non-null    object\n",
            " 9   irradiat           286 non-null    object\n",
            "dtypes: int64(1), object(9)\n",
            "memory usage: 22.5+ KB\n"
          ]
        }
      ],
      "source": [
        "df.info()"
      ]
    },
    {
      "cell_type": "code",
      "execution_count": 5,
      "metadata": {},
      "outputs": [
        {
          "data": {
            "text/plain": [
              "recurrence_events    0\n",
              "age                  0\n",
              "menopause            0\n",
              "tumor_size           0\n",
              "inv_nodes            0\n",
              "node_caps            0\n",
              "deg_malig            0\n",
              "breast               0\n",
              "breast_quead         0\n",
              "irradiat             0\n",
              "dtype: int64"
            ]
          },
          "execution_count": 5,
          "metadata": {},
          "output_type": "execute_result"
        }
      ],
      "source": [
        "df.isna().sum()"
      ]
    },
    {
      "cell_type": "code",
      "execution_count": 6,
      "metadata": {},
      "outputs": [],
      "source": [
        "df['recurrence_events'] = le.fit_transform(df['recurrence_events'])\n",
        "df[\"age\"] = le.fit_transform(df['age'])\n",
        "df['menopause'] = le.fit_transform(df['menopause'])\n",
        "df[\"tumor_size\"] =le.fit_transform(df['tumor_size'])\n",
        "df[\"inv_nodes\"] = le.fit_transform(df['inv_nodes'])\n",
        "df['node_caps'] = le.fit_transform(df['node_caps'])\n",
        "df[\"deg_malig\"] = le.fit_transform(df['deg_malig'])\n",
        "df['breast'] = le.fit_transform(df['breast'])\n",
        "df['breast_quead'] = le.fit_transform(df['breast_quead'])\n",
        "df[\"irradiat\"] = le.fit_transform(df['irradiat'])"
      ]
    },
    {
      "cell_type": "code",
      "execution_count": 7,
      "metadata": {},
      "outputs": [
        {
          "name": "stdout",
          "output_type": "stream",
          "text": [
            "<class 'pandas.core.frame.DataFrame'>\n",
            "RangeIndex: 286 entries, 0 to 285\n",
            "Data columns (total 10 columns):\n",
            " #   Column             Non-Null Count  Dtype\n",
            "---  ------             --------------  -----\n",
            " 0   recurrence_events  286 non-null    int32\n",
            " 1   age                286 non-null    int32\n",
            " 2   menopause          286 non-null    int32\n",
            " 3   tumor_size         286 non-null    int32\n",
            " 4   inv_nodes          286 non-null    int32\n",
            " 5   node_caps          286 non-null    int32\n",
            " 6   deg_malig          286 non-null    int64\n",
            " 7   breast             286 non-null    int32\n",
            " 8   breast_quead       286 non-null    int32\n",
            " 9   irradiat           286 non-null    int32\n",
            "dtypes: int32(9), int64(1)\n",
            "memory usage: 12.4 KB\n"
          ]
        }
      ],
      "source": [
        "df.info()"
      ]
    },
    {
      "cell_type": "code",
      "execution_count": 8,
      "metadata": {},
      "outputs": [
        {
          "data": {
            "text/plain": [
              "recurrence_events    0\n",
              "age                  0\n",
              "menopause            0\n",
              "tumor_size           0\n",
              "inv_nodes            0\n",
              "node_caps            0\n",
              "deg_malig            0\n",
              "breast               0\n",
              "breast_quead         0\n",
              "irradiat             0\n",
              "dtype: int64"
            ]
          },
          "execution_count": 8,
          "metadata": {},
          "output_type": "execute_result"
        }
      ],
      "source": [
        "df.isna().sum()"
      ]
    }
  ],
  "metadata": {
    "colab": {
      "provenance": []
    },
    "kernelspec": {
      "display_name": "Python 3",
      "name": "python3"
    },
    "language_info": {
      "codemirror_mode": {
        "name": "ipython",
        "version": 3
      },
      "file_extension": ".py",
      "mimetype": "text/x-python",
      "name": "python",
      "nbconvert_exporter": "python",
      "pygments_lexer": "ipython3",
      "version": "3.11.3"
    }
  },
  "nbformat": 4,
  "nbformat_minor": 0
}
