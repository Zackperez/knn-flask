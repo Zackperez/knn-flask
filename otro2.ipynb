{
  "cells": [
    {
      "cell_type": "code",
      "execution_count": 678,
      "metadata": {},
      "outputs": [],
      "source": [
        "import pandas as pd\n",
        "from sklearn.model_selection import train_test_split\n",
        "from sklearn.preprocessing import LabelEncoder, MinMaxScaler\n",
        "from sklearn.neighbors import KNeighborsClassifier\n",
        "import matplotlib.pyplot as plt\n",
        "le = LabelEncoder()\n",
        "df = pd.read_csv('breast-cancer.csv')"
      ]
    },
    {
      "cell_type": "code",
      "execution_count": null,
      "metadata": {},
      "outputs": [],
      "source": []
    },
    {
      "cell_type": "code",
      "execution_count": 679,
      "metadata": {},
      "outputs": [],
      "source": [
        "df.rename(columns={'class': 'recurrence_events'}, inplace = True)\n",
        "df.rename(columns={'tumor-size': 'tumor_size'}, inplace = True)\n",
        "df.rename(columns={'inv-nodes': 'inv_nodes'}, inplace = True)\n",
        "df.rename(columns={'node-caps': 'node_caps'}, inplace = True)\n",
        "df.rename(columns={'deg-malig': 'deg_malig'}, inplace = True)\n",
        "df.rename(columns={'breast-quead': 'breast_quead'}, inplace = True)\n"
      ]
    },
    {
      "cell_type": "code",
      "execution_count": null,
      "metadata": {},
      "outputs": [],
      "source": [
        "\n"
      ]
    },
    {
      "cell_type": "code",
      "execution_count": 680,
      "metadata": {},
      "outputs": [
        {
          "name": "stdout",
          "output_type": "stream",
          "text": [
            "<class 'pandas.core.frame.DataFrame'>\n",
            "RangeIndex: 286 entries, 0 to 285\n",
            "Data columns (total 10 columns):\n",
            " #   Column             Non-Null Count  Dtype \n",
            "---  ------             --------------  ----- \n",
            " 0   recurrence_events  286 non-null    object\n",
            " 1   age                286 non-null    object\n",
            " 2   menopause          286 non-null    object\n",
            " 3   tumor_size         286 non-null    object\n",
            " 4   inv_nodes          286 non-null    object\n",
            " 5   node_caps          286 non-null    object\n",
            " 6   deg_malig          286 non-null    int64 \n",
            " 7   breast             286 non-null    object\n",
            " 8   breast_quead       286 non-null    object\n",
            " 9   irradiat           286 non-null    object\n",
            "dtypes: int64(1), object(9)\n",
            "memory usage: 22.5+ KB\n"
          ]
        }
      ],
      "source": [
        "df.info()"
      ]
    },
    {
      "cell_type": "code",
      "execution_count": 681,
      "metadata": {},
      "outputs": [
        {
          "name": "stdout",
          "output_type": "stream",
          "text": [
            "['no-recurrence-events' 'recurrence-events']\n",
            "['30-39' '40-49' '60-69' '50-59' '70-79' '20-29']\n",
            "['premeno' 'ge40' 'lt40']\n",
            "['30-34' '20-24' '15-19' '0-4' '25-29' '50-54' '10-14' '40-44' '35-39'\n",
            " '5-9' '45-49']\n",
            "['0-2' '6-8' '9-11' '3-5' '15-17' '12-14' '24-26']\n",
            "['no' 'yes' '?']\n",
            "['left' 'right']\n",
            "['left_low' 'right_up' 'left_up' 'right_low' 'central' '?']\n",
            "['no' 'yes']\n"
          ]
        }
      ],
      "source": [
        "print(df['recurrence_events'].unique())  \n",
        "print(df[\"age\"].unique()) \n",
        "print(df['menopause'].unique())  \n",
        "print(df[\"tumor_size\"].unique())  \n",
        "print(df[\"inv_nodes\"].unique())  \n",
        "print(df['node_caps'].unique())  \n",
        "#print(df[\"deg_malig\"].unique())  \n",
        "print(df['breast'].unique()) \n",
        "print(df['breast_quead'].unique()) \n",
        "print(df[\"irradiat\"].unique())"
      ]
    },
    {
      "cell_type": "code",
      "execution_count": 682,
      "metadata": {},
      "outputs": [],
      "source": [
        "df.drop(['deg_malig'], axis = 1, inplace= True)\n",
        "df.drop(['tumor_size'], axis = 1, inplace= True)\n"
      ]
    },
    {
      "cell_type": "code",
      "execution_count": 683,
      "metadata": {},
      "outputs": [
        {
          "name": "stdout",
          "output_type": "stream",
          "text": [
            "['no-recurrence-events' 'recurrence-events']\n",
            "['30-39' '40-49' '60-69' '50-59' '70-79' '20-29']\n",
            "['premeno' 'ge40' 'lt40']\n",
            "['0-2' '6-8' '9-11' '3-5' '15-17' '12-14' '24-26']\n",
            "['no' 'yes' '?']\n",
            "['left' 'right']\n",
            "['left_low' 'right_up' 'left_up' 'right_low' 'central' '?']\n",
            "['no' 'yes']\n"
          ]
        }
      ],
      "source": [
        "print(df['recurrence_events'].unique())  \n",
        "print(df[\"age\"].unique()) \n",
        "print(df['menopause'].unique())  \n",
        "#print(df[\"tumor_size\"].unique())  \n",
        "print(df[\"inv_nodes\"].unique())  \n",
        "print(df['node_caps'].unique())  \n",
        "print(df['breast'].unique()) \n",
        "print(df['breast_quead'].unique()) \n",
        "print(df[\"irradiat\"].unique())"
      ]
    },
    {
      "cell_type": "code",
      "execution_count": 684,
      "metadata": {},
      "outputs": [
        {
          "name": "stdout",
          "output_type": "stream",
          "text": [
            "<class 'pandas.core.frame.DataFrame'>\n",
            "RangeIndex: 286 entries, 0 to 285\n",
            "Data columns (total 8 columns):\n",
            " #   Column             Non-Null Count  Dtype \n",
            "---  ------             --------------  ----- \n",
            " 0   recurrence_events  286 non-null    object\n",
            " 1   age                286 non-null    object\n",
            " 2   menopause          286 non-null    object\n",
            " 3   inv_nodes          286 non-null    object\n",
            " 4   node_caps          286 non-null    object\n",
            " 5   breast             286 non-null    object\n",
            " 6   breast_quead       286 non-null    object\n",
            " 7   irradiat           286 non-null    object\n",
            "dtypes: object(8)\n",
            "memory usage: 18.0+ KB\n"
          ]
        }
      ],
      "source": [
        "df.info()"
      ]
    },
    {
      "cell_type": "code",
      "execution_count": 685,
      "metadata": {},
      "outputs": [],
      "source": [
        "df['recurrence_events'] = le.fit_transform(df['recurrence_events'])\n",
        "df[\"age\"] = df[\"age\"].replace({\"20-29\": 0, \"30-39\": 1, \"40-49\": 2, \"50-59\": 3, \"60-69\": 4, \"70-79\": 5})\n",
        "df['menopause'] = le.fit_transform(df['menopause'])\n",
        "#df[\"tumor_size\"] = df[\"tumor_size\"].replace({\"0-4\": 0, \"5-9\": 1, \"10-14\": 2, \"15-19\": 3, \"20-24\": 4, \"25-29\": 5, \"30-34\": 6, \"35-39\": 7, \"40-44\": 8, \"45-49\": 9, \"50-54\": 10})\n",
        "df[\"inv_nodes\"] = df[\"inv_nodes\"].replace({\"0-2\": 0, \"3-5\": 1, \"6-8\": 2, \"9-11\": 3, \"12-14\": 4, \"15-17\": 5, \"24-26\": 6})\n",
        "df['node_caps'] = le.fit_transform(df['node_caps'])\n",
        "#df[\"deg_malig\"] = df[\"deg_malig\"].replace({1: 0, 2: 1, 3: 2})\n",
        "df['breast'] = le.fit_transform(df['breast'])\n",
        "df['breast_quead'] = le.fit_transform(df['breast_quead'])\n",
        "df[\"irradiat\"] = df[\"irradiat\"].replace({\"no\": 0, \"yes\": 1})"
      ]
    },
    {
      "cell_type": "code",
      "execution_count": 686,
      "metadata": {},
      "outputs": [],
      "source": [
        "# Imputar los valores faltantes ('?') en la columna \"breast_quead\" con la moda\n",
        "mode = df['breast_quead'].mode()[0]\n",
        "df['breast_quead'] = df['breast_quead'].replace('?', mode)"
      ]
    },
    {
      "cell_type": "code",
      "execution_count": 687,
      "metadata": {},
      "outputs": [],
      "source": [
        "# Imputar los valores faltantes ('?') en la columna \"breast_quead\" con la moda\n",
        "mode = df['node_caps'].mode()[0]\n",
        "df['node_caps'] = df['node_caps'].replace('?', mode)"
      ]
    },
    {
      "cell_type": "code",
      "execution_count": 688,
      "metadata": {},
      "outputs": [
        {
          "name": "stdout",
          "output_type": "stream",
          "text": [
            "<class 'pandas.core.frame.DataFrame'>\n",
            "RangeIndex: 286 entries, 0 to 285\n",
            "Data columns (total 8 columns):\n",
            " #   Column             Non-Null Count  Dtype\n",
            "---  ------             --------------  -----\n",
            " 0   recurrence_events  286 non-null    int32\n",
            " 1   age                286 non-null    int64\n",
            " 2   menopause          286 non-null    int32\n",
            " 3   inv_nodes          286 non-null    int64\n",
            " 4   node_caps          286 non-null    int32\n",
            " 5   breast             286 non-null    int32\n",
            " 6   breast_quead       286 non-null    int32\n",
            " 7   irradiat           286 non-null    int64\n",
            "dtypes: int32(5), int64(3)\n",
            "memory usage: 12.4 KB\n"
          ]
        }
      ],
      "source": [
        "df.info()"
      ]
    },
    {
      "cell_type": "code",
      "execution_count": 689,
      "metadata": {},
      "outputs": [
        {
          "name": "stdout",
          "output_type": "stream",
          "text": [
            "[0 1]\n",
            "[1 2 4 3 5 0]\n",
            "[2 0 1]\n",
            "[0 2 3 1 5 4 6]\n",
            "[1 2 0]\n",
            "[0 1]\n",
            "[2 5 3 4 1 0]\n",
            "[0 1]\n"
          ]
        }
      ],
      "source": [
        "print(df['recurrence_events'].unique())  \n",
        "print(df[\"age\"].unique()) \n",
        "print(df['menopause'].unique())  \n",
        "#print(df[\"tumor_size\"].unique())  \n",
        "print(df[\"inv_nodes\"].unique())  \n",
        "print(df['node_caps'].unique())  \n",
        "print(df['breast'].unique()) \n",
        "print(df['breast_quead'].unique()) \n",
        "print(df[\"irradiat\"].unique())"
      ]
    },
    {
      "cell_type": "code",
      "execution_count": 690,
      "metadata": {},
      "outputs": [],
      "source": [
        "#print(df[\"deg_malig\"].unique())\n",
        "#print(df[\"deg_malig\"] == 1.0)\n",
        "\n",
        "\n"
      ]
    },
    {
      "cell_type": "code",
      "execution_count": 691,
      "metadata": {},
      "outputs": [
        {
          "data": {
            "text/plain": [
              "<matplotlib.collections.PathCollection at 0x1f397be3190>"
            ]
          },
          "execution_count": 691,
          "metadata": {},
          "output_type": "execute_result"
        },
        {
          "data": {
            "image/png": "[encoded data removed]",
            "text/plain": [
              "<Figure size 600x400 with 1 Axes>"
            ]
          },
          "metadata": {},
          "output_type": "display_data"
        }
      ],
      "source": [
        "fig, ax = plt.subplots(1, 1, figsize=(6,4))\n",
        "ax.scatter(x=df.recurrence_events, y=df.breast_quead, alpha= 0.8)"
      ]
    },
    {
      "cell_type": "code",
      "execution_count": 692,
      "metadata": {},
      "outputs": [],
      "source": [
        "# Realizar la normalización min-max en la columna \"deg_malig\"\n",
        "#scaler = MinMaxScaler()\n",
        "#df['deg_malig'] = scaler.fit_transform(df['deg_malig'].values.reshape(-1, 1))\n"
      ]
    },
    {
      "cell_type": "code",
      "execution_count": 693,
      "metadata": {},
      "outputs": [],
      "source": [
        "# Codificar las variables categóricas\n",
        "\n",
        "df_encoded = df.copy()\n",
        "for column in df_encoded.columns:\n",
        "    if df_encoded[column].dtype == 'object':\n",
        "        df_encoded[column] = le.fit_transform(df_encoded[column])"
      ]
    },
    {
      "cell_type": "code",
      "execution_count": 694,
      "metadata": {},
      "outputs": [],
      "source": [
        "# Dividir los datos en características (X) y variable objetivo (y)\n",
        "X = df_encoded.drop(\"recurrence_events\", axis=1)\n",
        "y = df_encoded[\"recurrence_events\"]"
      ]
    },
    {
      "cell_type": "code",
      "execution_count": 695,
      "metadata": {},
      "outputs": [],
      "source": [
        "# Dividir los datos en conjuntos de entrenamiento y prueba\n",
        "X_train, X_test, y_train, y_test = train_test_split(X, y, test_size=0.7)\n"
      ]
    },
    {
      "cell_type": "code",
      "execution_count": 696,
      "metadata": {},
      "outputs": [],
      "source": [
        "# Crear una instancia del clasificador k-NN\n",
        "knn = KNeighborsClassifier(n_neighbors=5)  # Puedes ajustar el valor de k según tus necesidades"
      ]
    },
    {
      "cell_type": "code",
      "execution_count": 697,
      "metadata": {},
      "outputs": [
        {
          "data": {
            "text/html": [
              "<style>#sk-container-id-34 {color: black;background-color: white;}#sk-container-id-34 pre{padding: 0;}#sk-container-id-34 div.sk-toggleable {background-color: white;}#sk-container-id-34 label.sk-toggleable__label {cursor: pointer;display: block;width: 100%;margin-bottom: 0;padding: 0.3em;box-sizing: border-box;text-align: center;}#sk-container-id-34 label.sk-toggleable__label-arrow:before {content: \"▸\";float: left;margin-right: 0.25em;color: #696969;}#sk-container-id-34 label.sk-toggleable__label-arrow:hover:before {color: black;}#sk-container-id-34 div.sk-estimator:hover label.sk-toggleable__label-arrow:before {color: black;}#sk-container-id-34 div.sk-toggleable__content {max-height: 0;max-width: 0;overflow: hidden;text-align: left;background-color: #f0f8ff;}#sk-container-id-34 div.sk-toggleable__content pre {margin: 0.2em;color: black;border-radius: 0.25em;background-color: #f0f8ff;}#sk-container-id-34 input.sk-toggleable__control:checked~div.sk-toggleable__content {max-height: 200px;max-width: 100%;overflow: auto;}#sk-container-id-34 input.sk-toggleable__control:checked~label.sk-toggleable__label-arrow:before {content: \"▾\";}#sk-container-id-34 div.sk-estimator input.sk-toggleable__control:checked~label.sk-toggleable__label {background-color: #d4ebff;}#sk-container-id-34 div.sk-label input.sk-toggleable__control:checked~label.sk-toggleable__label {background-color: #d4ebff;}#sk-container-id-34 input.sk-hidden--visually {border: 0;clip: rect(1px 1px 1px 1px);clip: rect(1px, 1px, 1px, 1px);height: 1px;margin: -1px;overflow: hidden;padding: 0;position: absolute;width: 1px;}#sk-container-id-34 div.sk-estimator {font-family: monospace;background-color: #f0f8ff;border: 1px dotted black;border-radius: 0.25em;box-sizing: border-box;margin-bottom: 0.5em;}#sk-container-id-34 div.sk-estimator:hover {background-color: #d4ebff;}#sk-container-id-34 div.sk-parallel-item::after {content: \"\";width: 100%;border-bottom: 1px solid gray;flex-grow: 1;}#sk-container-id-34 div.sk-label:hover label.sk-toggleable__label {background-color: #d4ebff;}#sk-container-id-34 div.sk-serial::before {content: \"\";position: absolute;border-left: 1px solid gray;box-sizing: border-box;top: 0;bottom: 0;left: 50%;z-index: 0;}#sk-container-id-34 div.sk-serial {display: flex;flex-direction: column;align-items: center;background-color: white;padding-right: 0.2em;padding-left: 0.2em;position: relative;}#sk-container-id-34 div.sk-item {position: relative;z-index: 1;}#sk-container-id-34 div.sk-parallel {display: flex;align-items: stretch;justify-content: center;background-color: white;position: relative;}#sk-container-id-34 div.sk-item::before, #sk-container-id-34 div.sk-parallel-item::before {content: \"\";position: absolute;border-left: 1px solid gray;box-sizing: border-box;top: 0;bottom: 0;left: 50%;z-index: -1;}#sk-container-id-34 div.sk-parallel-item {display: flex;flex-direction: column;z-index: 1;position: relative;background-color: white;}#sk-container-id-34 div.sk-parallel-item:first-child::after {align-self: flex-end;width: 50%;}#sk-container-id-34 div.sk-parallel-item:last-child::after {align-self: flex-start;width: 50%;}#sk-container-id-34 div.sk-parallel-item:only-child::after {width: 0;}#sk-container-id-34 div.sk-dashed-wrapped {border: 1px dashed gray;margin: 0 0.4em 0.5em 0.4em;box-sizing: border-box;padding-bottom: 0.4em;background-color: white;}#sk-container-id-34 div.sk-label label {font-family: monospace;font-weight: bold;display: inline-block;line-height: 1.2em;}#sk-container-id-34 div.sk-label-container {text-align: center;}#sk-container-id-34 div.sk-container {/* jupyter's `normalize.less` sets `[hidden] { display: none; }` but bootstrap.min.css set `[hidden] { display: none !important; }` so we also need the `!important` here to be able to override the default hidden behavior on the sphinx rendered scikit-learn.org. See: https://github.com/scikit-learn/scikit-learn/issues/21755 */display: inline-block !important;position: relative;}#sk-container-id-34 div.sk-text-repr-fallback {display: none;}</style><div id=\"sk-container-id-34\" class=\"sk-top-container\"><div class=\"sk-text-repr-fallback\"><pre>KNeighborsClassifier()</pre><b>In a Jupyter environment, please rerun this cell to show the HTML representation or trust the notebook. <br />On GitHub, the HTML representation is unable to render, please try loading this page with nbviewer.org.</b></div><div class=\"sk-container\" hidden><div class=\"sk-item\"><div class=\"sk-estimator sk-toggleable\"><input class=\"sk-toggleable__control sk-hidden--visually\" id=\"sk-estimator-id-34\" type=\"checkbox\" checked><label for=\"sk-estimator-id-34\" class=\"sk-toggleable__label sk-toggleable__label-arrow\">KNeighborsClassifier</label><div class=\"sk-toggleable__content\"><pre>KNeighborsClassifier()</pre></div></div></div></div></div>"
            ],
            "text/plain": [
              "KNeighborsClassifier()"
            ]
          },
          "execution_count": 697,
          "metadata": {},
          "output_type": "execute_result"
        }
      ],
      "source": [
        "# Entrenar el clasificador k-NN\n",
        "knn.fit(X_train, y_train)"
      ]
    },
    {
      "cell_type": "code",
      "execution_count": 698,
      "metadata": {},
      "outputs": [],
      "source": [
        "# Realizar predicciones en el conjunto de prueba\n",
        "y_pred = knn.predict(X_test)\n"
      ]
    },
    {
      "cell_type": "code",
      "execution_count": 699,
      "metadata": {},
      "outputs": [
        {
          "name": "stdout",
          "output_type": "stream",
          "text": [
            "Exactitud (Accuracy): 0.6918604651162791\n"
          ]
        }
      ],
      "source": [
        "# Evaluar el rendimiento del clasificador\n",
        "accuracy = knn.score(X_test, y_test)\n",
        "print(\"Exactitud (Accuracy):\", accuracy)"
      ]
    }
  ],
  "metadata": {
    "colab": {
      "provenance": []
    },
    "kernelspec": {
      "display_name": "Python 3",
      "name": "python3"
    },
    "language_info": {
      "codemirror_mode": {
        "name": "ipython",
        "version": 3
      },
      "file_extension": ".py",
      "mimetype": "text/x-python",
      "name": "python",
      "nbconvert_exporter": "python",
      "pygments_lexer": "ipython3",
      "version": "3.11.3"
    }
  },
  "nbformat": 4,
  "nbformat_minor": 0
}
